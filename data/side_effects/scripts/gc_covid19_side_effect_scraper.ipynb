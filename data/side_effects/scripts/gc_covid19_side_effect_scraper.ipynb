{
 "cells": [
  {
   "cell_type": "code",
   "execution_count": null,
   "id": "through-march",
   "metadata": {},
   "outputs": [],
   "source": [
    "import requests\n",
    "from bs4 import BeautifulSoup"
   ]
  },
  {
   "cell_type": "code",
   "execution_count": null,
   "id": "demonstrated-technician",
   "metadata": {},
   "outputs": [],
   "source": [
    "URL = \"https://health-infobase.canada.ca/covid-19/vaccine-safety/#a7\"\n",
    "page = requests.get(URL)"
   ]
  },
  {
   "cell_type": "code",
   "execution_count": null,
   "id": "cardiovascular-bottle",
   "metadata": {},
   "outputs": [],
   "source": [
    "soup = BeautifulSoup(page.content, 'html.parser')"
   ]
  },
  {
   "cell_type": "code",
   "execution_count": null,
   "id": "respective-chile",
   "metadata": {},
   "outputs": [],
   "source": [
    "results = soup.find(id='figure5Table')"
   ]
  },
  {
   "cell_type": "code",
   "execution_count": null,
   "id": "above-plumbing",
   "metadata": {},
   "outputs": [],
   "source": [
    "print(results.prettify())"
   ]
  },
  {
   "cell_type": "code",
   "execution_count": null,
   "id": "sixth-organizer",
   "metadata": {},
   "outputs": [],
   "source": [
    "# read the table header\n",
    "elems = results.find_all(\"th\")\n",
    "header = [x.text for x in elems]\n",
    "header"
   ]
  },
  {
   "cell_type": "code",
   "execution_count": null,
   "id": "green-subscriber",
   "metadata": {},
   "outputs": [],
   "source": [
    "# grab the caption\n",
    "caption = results.find_all(\"caption\")[0].text\n",
    "caption"
   ]
  },
  {
   "cell_type": "code",
   "execution_count": null,
   "id": "equivalent-milwaukee",
   "metadata": {},
   "outputs": [],
   "source": [
    "# grab the table data\n",
    "table = results.find_all(\"tbody\")\n",
    "table"
   ]
  },
  {
   "cell_type": "markdown",
   "id": "union-ontario",
   "metadata": {},
   "source": [
    "__Blocker: The table data is generated dynamically.  Need to use Selenium!__"
   ]
  }
 ],
 "metadata": {
  "hide_input": false,
  "kernelspec": {
   "display_name": "Python 3",
   "language": "python",
   "name": "python3"
  },
  "language_info": {
   "codemirror_mode": {
    "name": "ipython",
    "version": 3
   },
   "file_extension": ".py",
   "mimetype": "text/x-python",
   "name": "python",
   "nbconvert_exporter": "python",
   "pygments_lexer": "ipython3",
   "version": "3.8.5"
  },
  "toc": {
   "base_numbering": 1,
   "nav_menu": {},
   "number_sections": true,
   "sideBar": true,
   "skip_h1_title": false,
   "title_cell": "Table of Contents",
   "title_sidebar": "Contents",
   "toc_cell": false,
   "toc_position": {},
   "toc_section_display": true,
   "toc_window_display": false
  }
 },
 "nbformat": 4,
 "nbformat_minor": 5
}
